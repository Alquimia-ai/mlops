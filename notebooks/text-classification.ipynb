{
 "cells": [
  {
   "cell_type": "markdown",
   "id": "e09a3dd1-227c-4f23-9d59-036ba51fed4d",
   "metadata": {},
   "source": [
    "### Alquimia text classification training 🤗🤗"
   ]
  },
  {
   "cell_type": "markdown",
   "id": "81473369-579e-4d28-b5b7-7e426735fbdc",
   "metadata": {},
   "source": [
    "#### Setup credentials & dependencies"
   ]
  },
  {
   "cell_type": "code",
   "execution_count": 1,
   "id": "01bf57d5-5edb-4b83-b887-0c679b8ed460",
   "metadata": {},
   "outputs": [],
   "source": [
    "!pip install transformers==4.28.0 datasets evaluate accelerate ipywidgets jupyterlab_widgets -q"
   ]
  },
  {
   "cell_type": "code",
   "execution_count": 2,
   "id": "2d893d4b-b56c-456f-958f-8a2de4ca98dc",
   "metadata": {},
   "outputs": [],
   "source": [
    "!git config --global credential.helper store"
   ]
  },
  {
   "cell_type": "code",
   "execution_count": 4,
   "id": "f8c39aa1-7d20-4b26-b96f-4cbabb868d31",
   "metadata": {},
   "outputs": [],
   "source": [
    "!pip install mlflow -q"
   ]
  },
  {
   "cell_type": "code",
   "execution_count": 5,
   "id": "144820ba-a0ca-4ee5-b0a0-5e8b8e0a8d18",
   "metadata": {},
   "outputs": [],
   "source": [
    "import mlflow,os"
   ]
  },
  {
   "cell_type": "code",
   "execution_count": null,
   "id": "c112b405-73d7-4d88-8a5e-e298d5484260",
   "metadata": {},
   "outputs": [],
   "source": [
    "# Access token through https://huggingface.co/settings/tokens\n",
    "from huggingface_hub import notebook_login\n",
    "\n",
    "notebook_login()"
   ]
  },
  {
   "cell_type": "code",
   "execution_count": null,
   "id": "88fdb179-a81a-4e3f-952e-7f411122d107",
   "metadata": {},
   "outputs": [],
   "source": [
    "## Load some important variables\n",
    "import ipywidgets as widgets\n",
    "from IPython.display import display\n",
    "\n",
    "# Creating the widgets\n",
    "test_size_slider = widgets.FloatSlider(\n",
    "    value=0.2,\n",
    "    min=0,\n",
    "    max=1.0,\n",
    "    step=0.05,\n",
    "    description='Test Size:',\n",
    "    continuous_update=False\n",
    ")\n",
    "\n",
    "number_of_labels_spinner = widgets.BoundedIntText(\n",
    "    value=2,\n",
    "    min=1,\n",
    "    max=100,\n",
    "    step=1,\n",
    "    description='Number of Labels:'\n",
    ")\n",
    "\n",
    "label_column_name_text = widgets.Text(\n",
    "    value='label',\n",
    "    placeholder='Type something',\n",
    "    description='Label Column:',\n",
    "    disabled=False\n",
    ")\n",
    "\n",
    "text_column_name_text = widgets.Text(\n",
    "    value='text',\n",
    "    placeholder='Type something',\n",
    "    description='Text Column:',\n",
    "    disabled=False\n",
    ")\n",
    "\n",
    "# Button to set the variables\n",
    "def set_variables(button):\n",
    "    global test_size, number_of_labels, label_column_name, text_column_name\n",
    "    test_size = test_size_slider.value\n",
    "    number_of_labels = number_of_labels_spinner.value\n",
    "    label_column_name = label_column_name_text.value\n",
    "    text_column_name = text_column_name_text.value\n",
    "    print(f\"Set values: Test Size: {test_size}, Number of Labels: {number_of_labels}, Label Column: {label_column_name}, Text Column: {text_column_name}\")\n",
    "\n",
    "set_button = widgets.Button(description=\"Set Variables\")\n",
    "set_button.on_click(set_variables)\n",
    "\n",
    "# Displaying the widgets\n",
    "display(test_size_slider, number_of_labels_spinner, label_column_name_text, text_column_name_text, set_button)"
   ]
  },
  {
   "cell_type": "code",
   "execution_count": null,
   "id": "a4363172-fd8d-48f8-807b-ec69b18e58d5",
   "metadata": {},
   "outputs": [],
   "source": [
    "try:\n",
    "    print(f\"Test Size: {test_size}\")\n",
    "    print(f\"Number of Labels: {number_of_labels}\")\n",
    "    print(f\"Label Column Name: {label_column_name}\")\n",
    "    print(f\"Text Column Name: {text_column_name}\")\n",
    "except NameError:\n",
    "    print(\"Variables not set yet. Please set them using the widgets and the 'Set Variables' button in the previous cell.\")"
   ]
  },
  {
   "cell_type": "code",
   "execution_count": null,
   "id": "a8cd5113-03b7-454a-be91-613fbd4a718c",
   "metadata": {},
   "outputs": [],
   "source": [
    "import ipywidgets as widgets\n",
    "from IPython.display import display\n",
    "\n",
    "# Create the FileUpload widget\n",
    "upload = widgets.FileUpload(\n",
    "    accept='.csv',  # Accept only .csv files\n",
    "    multiple=False  # Do not allow multiple file uploads\n",
    ")\n",
    "\n",
    "display(upload)"
   ]
  },
  {
   "cell_type": "code",
   "execution_count": null,
   "id": "007d9132-1fd2-4c86-acd4-7bca519b50ec",
   "metadata": {},
   "outputs": [],
   "source": [
    "## Once the first csv was uploaded we retrieve its data and store it in a dataframe\n",
    "import pandas as pd\n",
    "import io\n",
    "\n",
    "# Check if a file has been uploaded\n",
    "if upload.value:\n",
    "    # Retrieve uploaded file details\n",
    "    uploaded_filename = next(iter(upload.value))\n",
    "    content = upload.value[0]['content']\n",
    "\n",
    "    # If content is a memoryview, convert to bytes and then decode\n",
    "    if isinstance(content, memoryview):\n",
    "        content = content.tobytes().decode('utf-8')\n",
    "    \n",
    "    df = pd.read_csv(io.StringIO(content))\n",
    "    print(\"File uploaded successfully!\")\n",
    "else:\n",
    "    print(\"No file uploaded.\")"
   ]
  },
  {
   "cell_type": "code",
   "execution_count": null,
   "id": "f05aa88d-ba92-43e5-b74f-b10956e331c9",
   "metadata": {},
   "outputs": [],
   "source": [
    "## Show first three registers\n",
    "df.head(3)"
   ]
  },
  {
   "cell_type": "markdown",
   "id": "7a3d0ed4-b09c-4f51-84cd-73f97f5b36d5",
   "metadata": {},
   "source": [
    "### Define mapping \n",
    "\n",
    "Here you have define a mapping so the model can be properly trained  lets see an example \n",
    "\n",
    "```python\n",
    "category_to_label = {\n",
    "    'availability': 0,\n",
    "    'irrelevant': 1,\n",
    "    'post sale': 2,\n",
    "    'invoice':3,\n",
    "    'service':4,\n",
    "    'pricing':5,\n",
    "    'general':6,\n",
    "    'cancelation policy':7,\n",
    "    'cancel reservation':8\n",
    "}\n",
    "```"
   ]
  },
  {
   "cell_type": "code",
   "execution_count": null,
   "id": "60bfbfd6-1ca0-465c-8662-0e1ce6641103",
   "metadata": {},
   "outputs": [],
   "source": [
    "import ipywidgets as widgets\n",
    "from IPython.display import display, clear_output\n",
    "\n",
    "def create_mapping_interactively():\n",
    "    # Create text box for categories and labels\n",
    "    category_text = widgets.Text(value='', placeholder='Enter category', description=\"Category:\")\n",
    "    label_text = widgets.IntText(value=0, description=\"Label:\")\n",
    "    add_button = widgets.Button(description=\"Add\")\n",
    "    generate_button = widgets.Button(description=\"Generate Dictionary\")\n",
    "    output = widgets.Output()\n",
    "\n",
    "    # Temporary storage for categories and labels\n",
    "    temp_storage = {}\n",
    "\n",
    "    # Function to handle adding category and label\n",
    "    def add_category_label(b):\n",
    "        with output:\n",
    "            clear_output(wait=True)\n",
    "            temp_storage[category_text.value] = label_text.value\n",
    "            print(\"Current Mapping:\")\n",
    "            for key, val in temp_storage.items():\n",
    "                print(f\"{key} -> {val}\")\n",
    "            category_text.value = ''  # Clear the category input box for new entry\n",
    "    \n",
    "    # Function to finalize the dictionary\n",
    "    def generate_dictionary(b):\n",
    "        with output:\n",
    "            clear_output(wait=True)\n",
    "            print(\"Final Dictionary:\")\n",
    "            print(temp_storage)\n",
    "            global category_to_label\n",
    "            category_to_label = temp_storage  # Saving the mapping to a global variable\n",
    "\n",
    "    # Link button actions to respective functions\n",
    "    add_button.on_click(add_category_label)\n",
    "    generate_button.on_click(generate_dictionary)\n",
    "\n",
    "    # Display the widgets\n",
    "    display(category_text, label_text, add_button, generate_button, output)\n",
    "\n",
    "create_mapping_interactively()\n"
   ]
  },
  {
   "cell_type": "code",
   "execution_count": null,
   "id": "cd9abb27-757f-4c4c-8e03-ab3b82488239",
   "metadata": {},
   "outputs": [],
   "source": [
    "category_to_label"
   ]
  },
  {
   "cell_type": "code",
   "execution_count": null,
   "id": "16258646-2869-448e-816e-6093d9855fc8",
   "metadata": {},
   "outputs": [],
   "source": [
    "# Add the new 'label' column to the dataframe by mapping values from the 'category' column\n",
    "df['label'] = df[label_column_name].replace(category_to_label)\n",
    "df=df.drop('annotation_id',axis=1)\n",
    "df=df.drop('annotator',axis=1)\n",
    "df=df.drop('created_at',axis=1)\n",
    "df=df.drop('id',axis=1)\n",
    "df=df.drop('lead_time',axis=1)\n",
    "df=df.drop('updated_at',axis=1)\n",
    "df.head(3)"
   ]
  },
  {
   "cell_type": "markdown",
   "id": "8bd9b1f4-bec3-40ee-9216-2e082ccdcfc2",
   "metadata": {},
   "source": [
    "### Train/Test split"
   ]
  },
  {
   "cell_type": "code",
   "execution_count": null,
   "id": "5bea0da2-01c9-4aba-b086-c67b8ef0a95d",
   "metadata": {},
   "outputs": [],
   "source": [
    "from sklearn.model_selection import train_test_split\n",
    "\n",
    "\n",
    "df_train,df_test=train_test_split(df,test_size=test_size)"
   ]
  },
  {
   "cell_type": "markdown",
   "id": "e027ca19-9bc9-4b24-b7e6-8986b2baed33",
   "metadata": {},
   "source": [
    "### Convert to HuggingFace dataset"
   ]
  },
  {
   "cell_type": "code",
   "execution_count": null,
   "id": "3a092ced-5c70-49b1-b6e2-55d3b300353f",
   "metadata": {},
   "outputs": [],
   "source": [
    "from datasets import Dataset\n",
    "\n",
    "train_dataset=Dataset.from_pandas(df_train)\n",
    "test_dataset=Dataset.from_pandas(df_test)"
   ]
  },
  {
   "cell_type": "code",
   "execution_count": null,
   "id": "3b3d8396-fd3a-4dc8-a1e2-6def46cb478b",
   "metadata": {},
   "outputs": [],
   "source": [
    "from transformers import AutoTokenizer\n",
    "model_name='distilbert-base-uncased'\n",
    "tokenizer = AutoTokenizer.from_pretrained(model_name)"
   ]
  },
  {
   "cell_type": "code",
   "execution_count": null,
   "id": "769fc423-6fc3-46c8-b354-3a3cfe69a757",
   "metadata": {},
   "outputs": [],
   "source": [
    "def preprocess_function(examples):\n",
    "    return tokenizer(examples[text_column_name],truncation=True)"
   ]
  },
  {
   "cell_type": "code",
   "execution_count": null,
   "id": "8c3c94b8-4096-4f70-8f81-9b555ffacff6",
   "metadata": {},
   "outputs": [],
   "source": [
    "tokenized_train = train_dataset.map(preprocess_function, batched=True)\n",
    "tokenized_test=test_dataset.map(preprocess_function,batched=True)"
   ]
  },
  {
   "cell_type": "markdown",
   "id": "c7b9b30a-cdd8-4492-a6e8-998f266448a3",
   "metadata": {},
   "source": [
    "### PyTorch model"
   ]
  },
  {
   "cell_type": "code",
   "execution_count": null,
   "id": "e85df022-8a16-4ccf-a30d-a943ef5621dd",
   "metadata": {},
   "outputs": [],
   "source": [
    "from transformers import AutoModelForSequenceClassification\n",
    "\n",
    "model = AutoModelForSequenceClassification.from_pretrained(model_name,num_labels=number_of_labels)"
   ]
  },
  {
   "cell_type": "code",
   "execution_count": null,
   "id": "e06b337b-cadc-4537-a578-90d1b859004f",
   "metadata": {},
   "outputs": [],
   "source": [
    "from transformers import TrainingArguments, Trainer\n",
    "import evaluate\n",
    "import numpy as np\n",
    "from transformers import DataCollatorWithPadding\n",
    "\n",
    "data_collator=DataCollatorWithPadding(tokenizer=tokenizer)"
   ]
  },
  {
   "cell_type": "code",
   "execution_count": null,
   "id": "d489bd14-db86-4b9a-89b3-2634a23b17f4",
   "metadata": {},
   "outputs": [],
   "source": [
    "metric= evaluate.load(\"accuracy\")\n",
    "\n",
    "def compute_metrics(eval_pred):\n",
    "  logits,labels=eval_pred\n",
    "  predictions=np.argmax(logits,axis=-1)\n",
    "  return metric.compute(predictions=predictions,references=labels)"
   ]
  },
  {
   "cell_type": "code",
   "execution_count": null,
   "id": "203f1468-a715-48f8-91ff-7b873cea7bf8",
   "metadata": {},
   "outputs": [],
   "source": [
    "#https://huggingface.co/docs/transformers/v4.34.0/en/main_classes/callback#transformers.integrations.MLflowCallback\n",
    "\n",
    "os.environ[\"MLFLOW_EXPERIMENT_NAME\"]=\"text-classification\"\n",
    "os.environ[\"MLFLOW_FLATTEN_PARAMS\"]=\"1\""
   ]
  },
  {
   "cell_type": "code",
   "execution_count": null,
   "id": "10f17c21-b7d6-4229-a96d-15a89f73036d",
   "metadata": {},
   "outputs": [],
   "source": [
    "import ipywidgets as widgets\n",
    "from IPython.display import display\n",
    "\n",
    "# Create a text input widget\n",
    "model_name_widget = widgets.Text(\n",
    "    value='',\n",
    "    placeholder='Enter model name',\n",
    "    description='Model Name:',\n",
    "    disabled=False\n",
    ")\n",
    "\n",
    "# Create a button for confirmation\n",
    "confirm_button = widgets.Button(\n",
    "    description='Confirm',\n",
    "    disabled=False,\n",
    "    button_style='',  # 'success', 'info', 'warning', 'danger', or ''\n",
    "    tooltip='Click to confirm the model name',\n",
    "    icon='check'  # FontAwesome icon name without `fa-`\n",
    ")\n",
    "\n",
    "# Function to handle the input once the button is clicked\n",
    "def on_button_click(button):\n",
    "    global hf_model_name\n",
    "    hf_model_name = model_name_widget.value\n",
    "    print(f\"Saved model name: {hf_model_name}\")\n",
    "\n",
    "# Attach the button click event to the function\n",
    "confirm_button.on_click(on_button_click)\n",
    "\n",
    "# Display the widget and button\n",
    "display(model_name_widget, confirm_button)\n"
   ]
  },
  {
   "cell_type": "code",
   "execution_count": null,
   "id": "0c06711c-d085-4af8-9574-f6e66ece82fb",
   "metadata": {},
   "outputs": [],
   "source": [
    "print(\"My model name is {}\".format(hf_model_name))"
   ]
  },
  {
   "cell_type": "code",
   "execution_count": null,
   "id": "2815038d-021a-406e-b5ea-1fbf1874fc26",
   "metadata": {},
   "outputs": [],
   "source": [
    "training_args = TrainingArguments(\n",
    "    hub_model_id=hf_model_name,\n",
    "    output_dir=\"./output\",\n",
    "    learning_rate=2e-4,\n",
    "    per_device_train_batch_size=8,\n",
    "    per_device_eval_batch_size=8,\n",
    "    num_train_epochs=5,\n",
    "    weight_decay=0.01,\n",
    "    evaluation_strategy=\"epoch\",\n",
    "    logging_strategy=\"epoch\",\n",
    "    push_to_hub=True,\n",
    ")\n",
    "\n",
    "trainer = Trainer(\n",
    "    model=model,\n",
    "    args=training_args,\n",
    "    train_dataset=tokenized_train,\n",
    "    tokenizer=tokenizer,\n",
    "    data_collator=data_collator,\n",
    "    compute_metrics=compute_metrics,\n",
    "    eval_dataset=tokenized_test\n",
    ")"
   ]
  },
  {
   "cell_type": "code",
   "execution_count": null,
   "id": "e330d4bb-f8f2-4b46-b564-81b7727362e4",
   "metadata": {},
   "outputs": [],
   "source": [
    "### Fine tune model\n",
    "trainer.train()"
   ]
  },
  {
   "cell_type": "code",
   "execution_count": null,
   "id": "c61f9dd8-14e5-4914-b821-365261523615",
   "metadata": {
    "editable": true,
    "slideshow": {
     "slide_type": ""
    },
    "tags": []
   },
   "outputs": [],
   "source": [
    "## Mlflow ending run\n",
    "mlflow.end_run()     "
   ]
  },
  {
   "cell_type": "code",
   "execution_count": null,
   "id": "1b9c6798-06b4-4e46-98de-11bbf806a938",
   "metadata": {},
   "outputs": [],
   "source": [
    "### Upload to huggingface\n",
    "\n",
    "trainer.push_to_hub()"
   ]
  },
  {
   "cell_type": "code",
   "execution_count": null,
   "id": "15c66338-1f7f-426c-9b9c-08e1a78b6d9a",
   "metadata": {},
   "outputs": [],
   "source": [
    "%%sh\n",
    "cp -r mlruns output\n",
    "cd output\n",
    "git add mlruns\n",
    "git commit -m 'Add MLFlow run'\n",
    "git push"
   ]
  }
 ],
 "metadata": {
  "kernelspec": {
   "display_name": "Python 3 (ipykernel)",
   "language": "python",
   "name": "python3"
  },
  "language_info": {
   "codemirror_mode": {
    "name": "ipython",
    "version": 3
   },
   "file_extension": ".py",
   "mimetype": "text/x-python",
   "name": "python",
   "nbconvert_exporter": "python",
   "pygments_lexer": "ipython3",
   "version": "3.11.6"
  }
 },
 "nbformat": 4,
 "nbformat_minor": 5
}
