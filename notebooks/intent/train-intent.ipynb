{
 "cells": [
  {
   "cell_type": "markdown",
   "id": "746d98ff-75fc-4177-a596-46ddb8ecc558",
   "metadata": {},
   "source": [
    "# Fine tune Intent Model with Hugging Faces & Open vino "
   ]
  },
  {
   "cell_type": "markdown",
   "id": "b8e83f33-ca47-4c79-9e89-c97842753f1d",
   "metadata": {
    "tags": []
   },
   "source": [
    "#### Load dataset from downloads 📥📥"
   ]
  },
  {
   "cell_type": "code",
   "execution_count": 1,
   "id": "92c12f0a-4b1a-4402-8b4a-75f873a2e14b",
   "metadata": {
    "tags": []
   },
   "outputs": [
    {
     "name": "stdout",
     "output_type": "stream",
     "text": [
      "Requirement already satisfied: transformers in /opt/app-root/lib/python3.9/site-packages (4.35.2)\n",
      "Requirement already satisfied: datasets in /opt/app-root/lib/python3.9/site-packages (2.15.0)\n",
      "Requirement already satisfied: evaluate in /opt/app-root/lib/python3.9/site-packages (0.4.1)\n",
      "Requirement already satisfied: accelerate in /opt/app-root/lib/python3.9/site-packages (0.25.0)\n",
      "Requirement already satisfied: requests in /opt/app-root/lib/python3.9/site-packages (from transformers) (2.31.0)\n",
      "Requirement already satisfied: pyyaml>=5.1 in /opt/app-root/lib/python3.9/site-packages (from transformers) (6.0.1)\n",
      "Requirement already satisfied: filelock in /opt/app-root/lib/python3.9/site-packages (from transformers) (3.12.4)\n",
      "Requirement already satisfied: huggingface-hub<1.0,>=0.16.4 in /opt/app-root/lib/python3.9/site-packages (from transformers) (0.19.4)\n",
      "Requirement already satisfied: packaging>=20.0 in /opt/app-root/lib/python3.9/site-packages (from transformers) (23.2)\n",
      "Requirement already satisfied: safetensors>=0.3.1 in /opt/app-root/lib/python3.9/site-packages (from transformers) (0.4.1)\n",
      "Requirement already satisfied: tokenizers<0.19,>=0.14 in /opt/app-root/lib/python3.9/site-packages (from transformers) (0.15.0)\n",
      "Requirement already satisfied: tqdm>=4.27 in /opt/app-root/lib/python3.9/site-packages (from transformers) (4.66.1)\n",
      "Requirement already satisfied: regex!=2019.12.17 in /opt/app-root/lib/python3.9/site-packages (from transformers) (2023.10.3)\n",
      "Requirement already satisfied: numpy>=1.17 in /opt/app-root/lib/python3.9/site-packages (from transformers) (1.24.4)\n",
      "Requirement already satisfied: pyarrow>=8.0.0 in /opt/app-root/lib/python3.9/site-packages (from datasets) (14.0.1)\n",
      "Requirement already satisfied: multiprocess in /opt/app-root/lib/python3.9/site-packages (from datasets) (0.70.15)\n",
      "Requirement already satisfied: pandas in /opt/app-root/lib/python3.9/site-packages (from datasets) (1.5.3)\n",
      "Requirement already satisfied: pyarrow-hotfix in /opt/app-root/lib/python3.9/site-packages (from datasets) (0.6)\n",
      "Requirement already satisfied: xxhash in /opt/app-root/lib/python3.9/site-packages (from datasets) (3.4.1)\n",
      "Requirement already satisfied: fsspec[http]<=2023.10.0,>=2023.1.0 in /opt/app-root/lib/python3.9/site-packages (from datasets) (2023.10.0)\n",
      "Requirement already satisfied: dill<0.3.8,>=0.3.0 in /opt/app-root/lib/python3.9/site-packages (from datasets) (0.3.7)\n",
      "Requirement already satisfied: aiohttp in /opt/app-root/lib/python3.9/site-packages (from datasets) (3.8.6)\n",
      "Requirement already satisfied: responses<0.19 in /opt/app-root/lib/python3.9/site-packages (from evaluate) (0.18.0)\n",
      "Requirement already satisfied: psutil in /opt/app-root/lib/python3.9/site-packages (from accelerate) (5.9.6)\n",
      "Requirement already satisfied: torch>=1.10.0 in /opt/app-root/lib/python3.9/site-packages (from accelerate) (2.1.1)\n",
      "Requirement already satisfied: frozenlist>=1.1.1 in /opt/app-root/lib/python3.9/site-packages (from aiohttp->datasets) (1.4.0)\n",
      "Requirement already satisfied: async-timeout<5.0,>=4.0.0a3 in /opt/app-root/lib/python3.9/site-packages (from aiohttp->datasets) (4.0.3)\n",
      "Requirement already satisfied: attrs>=17.3.0 in /opt/app-root/lib/python3.9/site-packages (from aiohttp->datasets) (23.1.0)\n",
      "Requirement already satisfied: yarl<2.0,>=1.0 in /opt/app-root/lib/python3.9/site-packages (from aiohttp->datasets) (1.9.2)\n",
      "Requirement already satisfied: multidict<7.0,>=4.5 in /opt/app-root/lib/python3.9/site-packages (from aiohttp->datasets) (6.0.4)\n",
      "Requirement already satisfied: aiosignal>=1.1.2 in /opt/app-root/lib/python3.9/site-packages (from aiohttp->datasets) (1.3.1)\n",
      "Requirement already satisfied: charset-normalizer<4.0,>=2.0 in /opt/app-root/lib/python3.9/site-packages (from aiohttp->datasets) (3.3.1)\n",
      "Requirement already satisfied: typing-extensions>=3.7.4.3 in /opt/app-root/lib/python3.9/site-packages (from huggingface-hub<1.0,>=0.16.4->transformers) (4.8.0)\n",
      "Requirement already satisfied: urllib3<3,>=1.21.1 in /opt/app-root/lib/python3.9/site-packages (from requests->transformers) (1.26.18)\n",
      "Requirement already satisfied: idna<4,>=2.5 in /opt/app-root/lib/python3.9/site-packages (from requests->transformers) (3.4)\n",
      "Requirement already satisfied: certifi>=2017.4.17 in /opt/app-root/lib/python3.9/site-packages (from requests->transformers) (2023.7.22)\n",
      "Requirement already satisfied: sympy in /opt/app-root/lib/python3.9/site-packages (from torch>=1.10.0->accelerate) (1.12)\n",
      "Requirement already satisfied: networkx in /opt/app-root/lib/python3.9/site-packages (from torch>=1.10.0->accelerate) (2.8.2)\n",
      "Requirement already satisfied: triton==2.1.0 in /opt/app-root/lib/python3.9/site-packages (from torch>=1.10.0->accelerate) (2.1.0)\n",
      "Requirement already satisfied: nvidia-cuda-cupti-cu12==12.1.105 in /opt/app-root/lib/python3.9/site-packages (from torch>=1.10.0->accelerate) (12.1.105)\n",
      "Requirement already satisfied: jinja2 in /opt/app-root/lib/python3.9/site-packages (from torch>=1.10.0->accelerate) (3.1.2)\n",
      "Requirement already satisfied: nvidia-cusolver-cu12==11.4.5.107 in /opt/app-root/lib/python3.9/site-packages (from torch>=1.10.0->accelerate) (11.4.5.107)\n",
      "Requirement already satisfied: nvidia-cusparse-cu12==12.1.0.106 in /opt/app-root/lib/python3.9/site-packages (from torch>=1.10.0->accelerate) (12.1.0.106)\n",
      "Requirement already satisfied: nvidia-cuda-runtime-cu12==12.1.105 in /opt/app-root/lib/python3.9/site-packages (from torch>=1.10.0->accelerate) (12.1.105)\n",
      "Requirement already satisfied: nvidia-cudnn-cu12==8.9.2.26 in /opt/app-root/lib/python3.9/site-packages (from torch>=1.10.0->accelerate) (8.9.2.26)\n",
      "Requirement already satisfied: nvidia-nvtx-cu12==12.1.105 in /opt/app-root/lib/python3.9/site-packages (from torch>=1.10.0->accelerate) (12.1.105)\n",
      "Requirement already satisfied: nvidia-cufft-cu12==11.0.2.54 in /opt/app-root/lib/python3.9/site-packages (from torch>=1.10.0->accelerate) (11.0.2.54)\n",
      "Requirement already satisfied: nvidia-nccl-cu12==2.18.1 in /opt/app-root/lib/python3.9/site-packages (from torch>=1.10.0->accelerate) (2.18.1)\n",
      "Requirement already satisfied: nvidia-cublas-cu12==12.1.3.1 in /opt/app-root/lib/python3.9/site-packages (from torch>=1.10.0->accelerate) (12.1.3.1)\n",
      "Requirement already satisfied: nvidia-cuda-nvrtc-cu12==12.1.105 in /opt/app-root/lib/python3.9/site-packages (from torch>=1.10.0->accelerate) (12.1.105)\n",
      "Requirement already satisfied: nvidia-curand-cu12==10.3.2.106 in /opt/app-root/lib/python3.9/site-packages (from torch>=1.10.0->accelerate) (10.3.2.106)\n",
      "Requirement already satisfied: nvidia-nvjitlink-cu12 in /opt/app-root/lib/python3.9/site-packages (from nvidia-cusolver-cu12==11.4.5.107->torch>=1.10.0->accelerate) (12.3.101)\n",
      "Requirement already satisfied: pytz>=2020.1 in /opt/app-root/lib/python3.9/site-packages (from pandas->datasets) (2023.3.post1)\n",
      "Requirement already satisfied: python-dateutil>=2.8.1 in /opt/app-root/lib/python3.9/site-packages (from pandas->datasets) (2.8.2)\n",
      "Requirement already satisfied: six>=1.5 in /opt/app-root/lib/python3.9/site-packages (from python-dateutil>=2.8.1->pandas->datasets) (1.16.0)\n",
      "Requirement already satisfied: MarkupSafe>=2.0 in /opt/app-root/lib/python3.9/site-packages (from jinja2->torch>=1.10.0->accelerate) (2.1.3)\n",
      "Requirement already satisfied: mpmath>=0.19 in /opt/app-root/lib/python3.9/site-packages (from sympy->torch>=1.10.0->accelerate) (1.3.0)\n",
      "\n",
      "\u001b[1m[\u001b[0m\u001b[34;49mnotice\u001b[0m\u001b[1;39;49m]\u001b[0m\u001b[39;49m A new release of pip available: \u001b[0m\u001b[31;49m22.2.2\u001b[0m\u001b[39;49m -> \u001b[0m\u001b[32;49m23.3.1\u001b[0m\n",
      "\u001b[1m[\u001b[0m\u001b[34;49mnotice\u001b[0m\u001b[1;39;49m]\u001b[0m\u001b[39;49m To update, run: \u001b[0m\u001b[32;49mpip install --upgrade pip\u001b[0m\n"
     ]
    }
   ],
   "source": [
    "!pip install transformers datasets evaluate accelerate "
   ]
  },
  {
   "cell_type": "code",
   "execution_count": null,
   "id": "8c7ff2a9-899b-45f7-8c29-dcca5549a5b5",
   "metadata": {
    "tags": []
   },
   "outputs": [],
   "source": [
    "import pandas as pd\n",
    "import os\n",
    "labeled_dataset = \"labeled_dataset.csv\"\n",
    "\n",
    "# Assuming the file is in the current working directory\n",
    "df = pd.read_csv(labeled_dataset)\n",
    "\n",
    "# Display the first few rows of the dataframe\n",
    "df.head()"
   ]
  },
  {
   "cell_type": "code",
   "execution_count": null,
   "id": "c714855b-8eae-4822-ab2d-59f46c748958",
   "metadata": {
    "tags": []
   },
   "outputs": [],
   "source": [
    "test_size = 0.2 ## Define the testing size for metrics\n",
    "number_of_labels = os.environ.get('number_labels', 6)\n",
    "label_column_name = 'sentiment'\n",
    "text_column_name = os.environ.get('prompt_column', 'question')\n",
    "model_name = \"intent\""
   ]
  },
  {
   "cell_type": "code",
   "execution_count": null,
   "id": "bcc7068f-7b68-4d34-83c1-3060e7e94221",
   "metadata": {
    "tags": []
   },
   "outputs": [],
   "source": [
    "print(f\"The number of labels to be showed are: {number_of_labels} with a label colum name: {label_column_name} and a prompt column name: {text_column_name} (The test size is {test_size})\")"
   ]
  },
  {
   "cell_type": "markdown",
   "id": "0c6c6b30-3c04-4693-bbb6-f4249e051824",
   "metadata": {},
   "source": [
    "## Define mappings \n",
    "\n",
    "Here you have to define a map so the model can be properly trained lets see an example\n",
    "\n",
    "```python\n",
    "category_to_label = {\n",
    "    'availability': 0,\n",
    "    'irrelevant': 1,\n",
    "    'post sale': 2,\n",
    "    'invoice':3,\n",
    "    'service':4,\n",
    "    'pricing':5,\n",
    "    'general':6,\n",
    "    'cancelation policy':7,\n",
    "    'cancel reservation':8\n",
    "}\n",
    "```"
   ]
  },
  {
   "cell_type": "code",
   "execution_count": null,
   "id": "adfc3d0d-7d5e-418c-9b54-c0609aa38172",
   "metadata": {
    "tags": []
   },
   "outputs": [],
   "source": [
    "### For now the map is being defined within the notebook\n",
    "\n",
    "category_to_label={\n",
    " 'inventory': 0,\n",
    " 'checkout': 1,\n",
    " 'irrelevant': 2,\n",
    " 'conversational': 3,\n",
    " 'feedback': 4,\n",
    " 'postSale': 5\n",
    "}\n",
    "\n",
    "# Add the new 'label' column to the dataframe by mapping values from the 'category' column\n",
    "df['label'] = df[label_column_name].replace(category_to_label)\n",
    "df = df.drop('annotation_id',axis=1)\n",
    "df = df.drop('annotator',axis=1)\n",
    "df = df.drop('created_at',axis=1)\n",
    "df = df.drop('id',axis=1)\n",
    "df = df.drop('lead_time',axis=1)\n",
    "df = df.drop('updated_at',axis=1)"
   ]
  },
  {
   "cell_type": "code",
   "execution_count": null,
   "id": "a7715447-cd95-419f-a985-bb490457f205",
   "metadata": {
    "tags": []
   },
   "outputs": [],
   "source": [
    "category_to_label"
   ]
  },
  {
   "cell_type": "code",
   "execution_count": null,
   "id": "bfab0f2b-d9c5-4474-b1cc-5cb543217eff",
   "metadata": {
    "tags": []
   },
   "outputs": [],
   "source": [
    "df.head(3)"
   ]
  },
  {
   "cell_type": "code",
   "execution_count": null,
   "id": "d44bcdc3-c6a4-4067-98bc-79f8df3a3012",
   "metadata": {
    "tags": []
   },
   "outputs": [],
   "source": [
    "from sklearn.model_selection import train_test_split\n",
    "\n",
    "\n",
    "df_train, df_test = train_test_split(df, test_size=test_size)"
   ]
  },
  {
   "cell_type": "code",
   "execution_count": null,
   "id": "2812aeee-aa35-4ffc-ba6e-1466296c7fe0",
   "metadata": {
    "tags": []
   },
   "outputs": [],
   "source": [
    "from datasets import Dataset\n",
    "\n",
    "train_dataset = Dataset.from_pandas(df_train)\n",
    "test_dataset = Dataset.from_pandas(df_test)"
   ]
  },
  {
   "cell_type": "code",
   "execution_count": null,
   "id": "e6b8f309-1946-48c2-a16c-0965ab400919",
   "metadata": {
    "tags": []
   },
   "outputs": [],
   "source": [
    "from transformers import AutoTokenizer\n",
    "base_model_name = 'distilbert-base-uncased'\n",
    "tokenizer = AutoTokenizer.from_pretrained(base_model_name)"
   ]
  },
  {
   "cell_type": "code",
   "execution_count": null,
   "id": "d8c52911-84cf-4c1f-9370-7d9a591e4f66",
   "metadata": {
    "tags": []
   },
   "outputs": [],
   "source": [
    "def preprocess_function(examples):\n",
    "    return tokenizer(examples[text_column_name], truncation=True)"
   ]
  },
  {
   "cell_type": "code",
   "execution_count": null,
   "id": "0704fc0d-5f1d-48d1-afd9-fafbd2740e4f",
   "metadata": {
    "tags": []
   },
   "outputs": [],
   "source": [
    "tokenized_train = train_dataset.map(preprocess_function, batched=True)\n",
    "tokenized_test = test_dataset.map(preprocess_function, batched=True)"
   ]
  },
  {
   "cell_type": "code",
   "execution_count": null,
   "id": "6f1409db-e337-4414-a23d-c03ecd4d30b7",
   "metadata": {
    "tags": []
   },
   "outputs": [],
   "source": [
    "from transformers import AutoModelForSequenceClassification\n",
    "\n",
    "model = AutoModelForSequenceClassification.from_pretrained(base_model_name, num_labels=number_of_labels)"
   ]
  },
  {
   "cell_type": "code",
   "execution_count": null,
   "id": "bcc1853b-bba9-4d4b-bb04-ed50abe1808f",
   "metadata": {
    "tags": []
   },
   "outputs": [],
   "source": [
    "from transformers import TrainingArguments, Trainer\n",
    "import evaluate\n",
    "import numpy as np\n",
    "from transformers import DataCollatorWithPadding\n",
    "\n",
    "data_collator = DataCollatorWithPadding(tokenizer=tokenizer)"
   ]
  },
  {
   "cell_type": "code",
   "execution_count": null,
   "id": "353bdc9b-f4ad-45d2-980f-ea3c425ee679",
   "metadata": {
    "tags": []
   },
   "outputs": [],
   "source": [
    "metric = evaluate.load(\"accuracy\")\n",
    "\n",
    "def compute_metrics(eval_pred):\n",
    "  logits, labels = eval_pred\n",
    "  predictions = np.argmax(logits, axis=-1)\n",
    "  return metric.compute(predictions=predictions, references=labels)"
   ]
  },
  {
   "cell_type": "code",
   "execution_count": null,
   "id": "352b826f-e3fa-4d6d-9cb1-a1f205585698",
   "metadata": {
    "tags": []
   },
   "outputs": [],
   "source": [
    "training_args = TrainingArguments(\n",
    "    hub_model_id=model_name,\n",
    "    output_dir=\"./output\",\n",
    "    learning_rate=2e-4,\n",
    "    per_device_train_batch_size=8,\n",
    "    per_device_eval_batch_size=8,\n",
    "    num_train_epochs=5,\n",
    "    weight_decay=0.01,\n",
    "    evaluation_strategy=\"epoch\",\n",
    "    logging_strategy=\"epoch\",\n",
    ")\n",
    "\n",
    "trainer = Trainer(\n",
    "    model=model,\n",
    "    args=training_args,\n",
    "    train_dataset=tokenized_train,\n",
    "    tokenizer=tokenizer,\n",
    "    data_collator=data_collator,\n",
    "    compute_metrics=compute_metrics,\n",
    "    eval_dataset=tokenized_test\n",
    ")"
   ]
  },
  {
   "cell_type": "code",
   "execution_count": null,
   "id": "9cd8554c-e0de-4f83-9802-c5c0f35e41fd",
   "metadata": {
    "tags": []
   },
   "outputs": [],
   "source": [
    "### Fine tune model\n",
    "trainer.train()"
   ]
  },
  {
   "cell_type": "code",
   "execution_count": null,
   "id": "c5f1dc20-5fcd-4f8d-9cc7-e39184bda1df",
   "metadata": {
    "tags": []
   },
   "outputs": [],
   "source": [
    "## Save pytorch \n",
    "trainer.save_model(model_name)"
   ]
  },
  {
   "cell_type": "code",
   "execution_count": 2,
   "id": "f537b1d6-2e21-4e44-ad88-1b96434045c6",
   "metadata": {
    "tags": []
   },
   "outputs": [
    {
     "name": "stdout",
     "output_type": "stream",
     "text": [
      "\n",
      "\u001b[1m[\u001b[0m\u001b[34;49mnotice\u001b[0m\u001b[1;39;49m]\u001b[0m\u001b[39;49m A new release of pip available: \u001b[0m\u001b[31;49m22.2.2\u001b[0m\u001b[39;49m -> \u001b[0m\u001b[32;49m23.3.1\u001b[0m\n",
      "\u001b[1m[\u001b[0m\u001b[34;49mnotice\u001b[0m\u001b[1;39;49m]\u001b[0m\u001b[39;49m To update, run: \u001b[0m\u001b[32;49mpip install --upgrade pip\u001b[0m\n"
     ]
    }
   ],
   "source": [
    "!pip install optimum[openvino,nncf] -q"
   ]
  },
  {
   "cell_type": "code",
   "execution_count": null,
   "id": "f9d82fff-72de-464f-b25e-1243b23321d3",
   "metadata": {
    "tags": []
   },
   "outputs": [],
   "source": [
    "!optimum-cli export openvino --model intent --task text-classification intent_openvino/"
   ]
  },
  {
   "cell_type": "code",
   "execution_count": 3,
   "id": "a4594346-fa93-49b7-a1c6-595ccbf51238",
   "metadata": {
    "tags": []
   },
   "outputs": [
    {
     "name": "stdout",
     "output_type": "stream",
     "text": [
      "Requirement already satisfied: essentia in /opt/app-root/lib/python3.9/site-packages (2.1b6.dev1034)\n",
      "Requirement already satisfied: librosa in /opt/app-root/lib/python3.9/site-packages (0.10.1)\n",
      "Requirement already satisfied: pyyaml in /opt/app-root/lib/python3.9/site-packages (from essentia) (6.0.1)\n",
      "Requirement already satisfied: numpy>=1.8.2 in /opt/app-root/lib/python3.9/site-packages (from essentia) (1.24.4)\n",
      "Requirement already satisfied: six in /opt/app-root/lib/python3.9/site-packages (from essentia) (1.16.0)\n",
      "Requirement already satisfied: pooch>=1.0 in /opt/app-root/lib/python3.9/site-packages (from librosa) (1.8.0)\n",
      "Requirement already satisfied: typing-extensions>=4.1.1 in /opt/app-root/lib/python3.9/site-packages (from librosa) (4.8.0)\n",
      "Requirement already satisfied: decorator>=4.3.0 in /opt/app-root/lib/python3.9/site-packages (from librosa) (5.1.1)\n",
      "Requirement already satisfied: soundfile>=0.12.1 in /opt/app-root/lib/python3.9/site-packages (from librosa) (0.12.1)\n",
      "Requirement already satisfied: lazy-loader>=0.1 in /opt/app-root/lib/python3.9/site-packages (from librosa) (0.3)\n",
      "Requirement already satisfied: audioread>=2.1.9 in /opt/app-root/lib/python3.9/site-packages (from librosa) (3.0.1)\n",
      "Requirement already satisfied: scikit-learn>=0.20.0 in /opt/app-root/lib/python3.9/site-packages (from librosa) (1.3.2)\n",
      "Requirement already satisfied: numba>=0.51.0 in /opt/app-root/lib/python3.9/site-packages (from librosa) (0.58.1)\n",
      "Requirement already satisfied: soxr>=0.3.2 in /opt/app-root/lib/python3.9/site-packages (from librosa) (0.3.7)\n",
      "Requirement already satisfied: msgpack>=1.0 in /opt/app-root/lib/python3.9/site-packages (from librosa) (1.0.7)\n",
      "Requirement already satisfied: joblib>=0.14 in /opt/app-root/lib/python3.9/site-packages (from librosa) (1.3.2)\n",
      "Requirement already satisfied: scipy>=1.2.0 in /opt/app-root/lib/python3.9/site-packages (from librosa) (1.11.3)\n",
      "Requirement already satisfied: llvmlite<0.42,>=0.41.0dev0 in /opt/app-root/lib/python3.9/site-packages (from numba>=0.51.0->librosa) (0.41.1)\n",
      "Requirement already satisfied: packaging>=20.0 in /opt/app-root/lib/python3.9/site-packages (from pooch>=1.0->librosa) (23.2)\n",
      "Requirement already satisfied: platformdirs>=2.5.0 in /opt/app-root/lib/python3.9/site-packages (from pooch>=1.0->librosa) (3.11.0)\n",
      "Requirement already satisfied: requests>=2.19.0 in /opt/app-root/lib/python3.9/site-packages (from pooch>=1.0->librosa) (2.31.0)\n",
      "Requirement already satisfied: threadpoolctl>=2.0.0 in /opt/app-root/lib/python3.9/site-packages (from scikit-learn>=0.20.0->librosa) (3.2.0)\n",
      "Requirement already satisfied: cffi>=1.0 in /opt/app-root/lib/python3.9/site-packages (from soundfile>=0.12.1->librosa) (1.16.0)\n",
      "Requirement already satisfied: pycparser in /opt/app-root/lib/python3.9/site-packages (from cffi>=1.0->soundfile>=0.12.1->librosa) (2.21)\n",
      "Requirement already satisfied: idna<4,>=2.5 in /opt/app-root/lib/python3.9/site-packages (from requests>=2.19.0->pooch>=1.0->librosa) (3.4)\n",
      "Requirement already satisfied: charset-normalizer<4,>=2 in /opt/app-root/lib/python3.9/site-packages (from requests>=2.19.0->pooch>=1.0->librosa) (3.3.1)\n",
      "Requirement already satisfied: urllib3<3,>=1.21.1 in /opt/app-root/lib/python3.9/site-packages (from requests>=2.19.0->pooch>=1.0->librosa) (1.26.18)\n",
      "Requirement already satisfied: certifi>=2017.4.17 in /opt/app-root/lib/python3.9/site-packages (from requests>=2.19.0->pooch>=1.0->librosa) (2023.7.22)\n",
      "\n",
      "\u001b[1m[\u001b[0m\u001b[34;49mnotice\u001b[0m\u001b[1;39;49m]\u001b[0m\u001b[39;49m A new release of pip available: \u001b[0m\u001b[31;49m22.2.2\u001b[0m\u001b[39;49m -> \u001b[0m\u001b[32;49m23.3.1\u001b[0m\n",
      "\u001b[1m[\u001b[0m\u001b[34;49mnotice\u001b[0m\u001b[1;39;49m]\u001b[0m\u001b[39;49m To update, run: \u001b[0m\u001b[32;49mpip install --upgrade pip\u001b[0m\n"
     ]
    }
   ],
   "source": [
    "!pip install essentia librosa"
   ]
  },
  {
   "cell_type": "code",
   "execution_count": 25,
   "id": "e2ab2a56-0778-461a-8500-3c222374ca06",
   "metadata": {
    "tags": []
   },
   "outputs": [
    {
     "name": "stderr",
     "output_type": "stream",
     "text": [
      "Compiling the model to CPU ...\n",
      "Setting OpenVINO CACHE_DIR to intent_openvino/model_cache\n"
     ]
    },
    {
     "name": "stdout",
     "output_type": "stream",
     "text": [
      "Inputs tensor {'input_ids': tensor([[  101,  1045, 10587,  3926,  2026,  2344,   102]]), 'attention_mask': tensor([[1, 1, 1, 1, 1, 1, 1]])}\n"
     ]
    },
    {
     "data": {
      "text/plain": [
       "[1]"
      ]
     },
     "execution_count": 25,
     "metadata": {},
     "output_type": "execute_result"
    }
   ],
   "source": [
    "from transformers import AutoTokenizer\n",
    "from optimum.intel import OVModelForSequenceClassification\n",
    "import torch\n",
    "tokenizer = AutoTokenizer.from_pretrained(\"intent_openvino\")\n",
    "model = OVModelForSequenceClassification.from_pretrained(\"intent_openvino\")\n",
    "inputs = tokenizer(\"I wanna finish my order\", return_tensors=\"pt\")\n",
    "print(\"Inputs tensor\",inputs)\n",
    "with torch.no_grad():\n",
    "    outputs = model(**inputs)\n",
    "logits= outputs.logits\n",
    "# Apply the softmax to get probabilities\n",
    "probabilities = torch.nn.functional.softmax(logits, dim=1)\n",
    "# Get the predicted class label\n",
    "predicted_classes = probabilities.argmax(dim=1).tolist()\n",
    "\n",
    "predicted_classes"
   ]
  },
  {
   "cell_type": "code",
   "execution_count": null,
   "id": "17b18462-91a8-45c5-be83-c1939174e9ca",
   "metadata": {
    "tags": []
   },
   "outputs": [],
   "source": [
    "## Load the bucket and file path\n",
    "bucket_name =  os.environ['bucket_name']\n",
    "model_name = 'intent'"
   ]
  },
  {
   "cell_type": "code",
   "execution_count": null,
   "id": "6699473a-0269-4012-a95c-5a783d8ec506",
   "metadata": {
    "tags": []
   },
   "outputs": [],
   "source": [
    "## AWS_ACCESS_KEY_ID & AWS_SECRET_ACCESS_KEY should be set as Env variables\n",
    "key_id = os.environ.get('AWS_ACCESS_KEY_ID')\n",
    "secret_key = os.environ.get('AWS_SECRET_ACCESS_KEY')"
   ]
  },
  {
   "cell_type": "code",
   "execution_count": null,
   "id": "ea6b6efc-acc7-44e2-b903-f7c4edf7c251",
   "metadata": {
    "tags": []
   },
   "outputs": [],
   "source": [
    "import boto3\n",
    "from datetime import datetime\n",
    "\n",
    "now_date = datetime.now()\n",
    "s3_client = boto3.client('s3', aws_access_key_id=key_id, aws_secret_access_key=secret_key)"
   ]
  },
  {
   "cell_type": "code",
   "execution_count": null,
   "id": "c1b5a720-4620-486a-ac34-03d7783e7225",
   "metadata": {
    "tags": []
   },
   "outputs": [],
   "source": [
    "#Upload file to S3\n",
    "#s3_client.upload_file(optimized_onnx_filename, bucket_name, f\"{model_path}/bins/{onnx_filename}\")\n",
    "#s3_client.upload_file(labeled_dataset, bucket_name,  f\"{model_path}/datasets/dataset-{now_date.isoformat()}.csv\")"
   ]
  },
  {
   "cell_type": "code",
   "execution_count": null,
   "id": "943c5e2c-cd92-4df0-8e82-a1587f5ba835",
   "metadata": {
    "tags": []
   },
   "outputs": [],
   "source": [
    "## Delete directory in Jupyter Notebook\n",
    "import shutil\n",
    "\n",
    "# Remove the local model directory\n",
    "shutil.rmtree(model_name)\n",
    "os.remove(optimized_onnx_filename)\n",
    "os.remove(onnx_filename)\n",
    "os.remove(labeled_dataset)\n",
    "shutil.rmtree(\"output\")"
   ]
  }
 ],
 "metadata": {
  "kernelspec": {
   "display_name": "Python 3.9",
   "language": "python",
   "name": "python3"
  },
  "language_info": {
   "codemirror_mode": {
    "name": "ipython",
    "version": 3
   },
   "file_extension": ".py",
   "mimetype": "text/x-python",
   "name": "python",
   "nbconvert_exporter": "python",
   "pygments_lexer": "ipython3",
   "version": "3.9.16"
  }
 },
 "nbformat": 4,
 "nbformat_minor": 5
}
