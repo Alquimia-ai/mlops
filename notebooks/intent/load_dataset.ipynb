{
 "cells": [
  {
   "cell_type": "markdown",
   "id": "87ec2e0d-f0cb-46fc-bd1a-05dbeecd787c",
   "metadata": {},
   "source": [
    "# Load Datasets from AWS3 🕸️🕸️"
   ]
  },
  {
   "cell_type": "code",
   "execution_count": 1,
   "id": "e767449d-e1e8-4693-a83a-e07dafed568e",
   "metadata": {},
   "outputs": [],
   "source": [
    "## Imports to load from AWS3\n",
    "import os\n",
    "import boto3\n",
    "from boto3 import session"
   ]
  },
  {
   "cell_type": "code",
   "execution_count": 2,
   "id": "9c789111-05f4-4ccd-ba19-fff99fec1bd8",
   "metadata": {},
   "outputs": [],
   "source": [
    "## AWS_ACCESS_KEY_ID & AWS_SECRET_ACCESS_KEY should be set as Env variables\n",
    "key_id = os.environ.get('AWS_ACCESS_KEY_ID')\n",
    "secret_key = os.environ.get('AWS_SECRET_ACCESS_KEY')"
   ]
  },
  {
   "cell_type": "code",
   "execution_count": 3,
   "id": "3cd17e28-3ea4-48a5-87c5-abf9eb93fb9a",
   "metadata": {},
   "outputs": [],
   "source": [
    "session = boto3.session.Session(aws_access_key_id=key_id, aws_secret_access_key=secret_key)"
   ]
  },
  {
   "cell_type": "code",
   "execution_count": 4,
   "id": "656d7e5a-244b-48ee-b0d8-64d13a27ab4e",
   "metadata": {},
   "outputs": [],
   "source": [
    "s3_client = boto3.client('s3', aws_access_key_id=key_id, aws_secret_access_key=secret_key)"
   ]
  },
  {
   "cell_type": "code",
   "execution_count": 5,
   "id": "34ef54de-7958-4387-ba37-a2f8cd84483c",
   "metadata": {},
   "outputs": [
    {
     "data": {
      "text/plain": [
       "{'ResponseMetadata': {'RequestId': '1RTXQWCDJ1EMVCWQ',\n",
       "  'HostId': 'K37iO4NQf1Ge9tsmli3ox7QYFo/bC+QRJ2RZJfAfocJf9x40zO/tcNSPWGzDWcH2jipu9Q8WI/Q=',\n",
       "  'HTTPStatusCode': 200,\n",
       "  'HTTPHeaders': {'x-amz-id-2': 'K37iO4NQf1Ge9tsmli3ox7QYFo/bC+QRJ2RZJfAfocJf9x40zO/tcNSPWGzDWcH2jipu9Q8WI/Q=',\n",
       "   'x-amz-request-id': '1RTXQWCDJ1EMVCWQ',\n",
       "   'date': 'Thu, 19 Oct 2023 18:24:33 GMT',\n",
       "   'content-type': 'application/xml',\n",
       "   'transfer-encoding': 'chunked',\n",
       "   'server': 'AmazonS3'},\n",
       "  'RetryAttempts': 0},\n",
       " 'Buckets': [{'Name': 'ecommerce-medusa',\n",
       "   'CreationDate': datetime.datetime(2023, 10, 17, 22, 31, 53, tzinfo=tzlocal())}],\n",
       " 'Owner': {'DisplayName': 'alexfiorenza2019',\n",
       "  'ID': 'd69cf6401f9849784abc1dd51d839ac3004073adfee6787819d23cb2939c1c7d'}}"
      ]
     },
     "execution_count": 5,
     "metadata": {},
     "output_type": "execute_result"
    }
   ],
   "source": [
    "## Verifying that s3 client is correctly instantiated\n",
    "s3_client.list_buckets()"
   ]
  },
  {
   "cell_type": "code",
   "execution_count": 6,
   "id": "5d992509-756e-4875-945b-befe048d3a93",
   "metadata": {},
   "outputs": [],
   "source": [
    "## Load the bucket and file path \n",
    "bucket_name =  os.environ.get('bucket_name') if os.environ.get('bucket_name') is not None else \"ecommerce-medusa\"\n",
    "file_path=  os.environ.get('labeled_dataset_path') if os.environ.get('labeled_dataset_path') is not None else \"label-studio/project-4-at-2023-10-13-21-05-de1c9165.csv\""
   ]
  },
  {
   "cell_type": "code",
   "execution_count": 7,
   "id": "c9fcefff-9f9a-429e-9a69-63cb4af86d15",
   "metadata": {},
   "outputs": [
    {
     "name": "stdout",
     "output_type": "stream",
     "text": [
      "The bucket is ecommerce-medusa and the file path is label-studio/project-4-at-2023-10-13-21-05-de1c9165.csv\n"
     ]
    }
   ],
   "source": [
    "print(\"The bucket is {} and the file path is {}\".format(bucket_name,file_path))"
   ]
  },
  {
   "cell_type": "code",
   "execution_count": 8,
   "id": "eabb4462-e31a-4d50-b8e1-f45328d5e753",
   "metadata": {},
   "outputs": [],
   "source": [
    "## Get object & download it as labeled_dataset.csv\n",
    "s3object=s3_client.get_object(Bucket=bucket_name,Key=file_path)\n",
    "s3_client.download_file(bucket_name, file_path, \"labeled_dataset.csv\")"
   ]
  },
  {
   "cell_type": "code",
   "execution_count": 9,
   "id": "77937928-aed4-4f2e-a79f-ad33202551c1",
   "metadata": {},
   "outputs": [
    {
     "data": {
      "text/plain": [
       "{'ResponseMetadata': {'RequestId': '9GQZ15BCTCTV3MCW',\n",
       "  'HostId': 'w6hM1h6G8/ylehA0tEGXYFJUuqonddhrLs8xDnwZwkueICfUyvCh6Sq883PZSlbYEpjnlgjtfWA=',\n",
       "  'HTTPStatusCode': 200,\n",
       "  'HTTPHeaders': {'x-amz-id-2': 'w6hM1h6G8/ylehA0tEGXYFJUuqonddhrLs8xDnwZwkueICfUyvCh6Sq883PZSlbYEpjnlgjtfWA=',\n",
       "   'x-amz-request-id': '9GQZ15BCTCTV3MCW',\n",
       "   'date': 'Thu, 19 Oct 2023 18:24:36 GMT',\n",
       "   'last-modified': 'Wed, 18 Oct 2023 18:50:42 GMT',\n",
       "   'etag': '\"369f69cfe081ce17657975ce17678792\"',\n",
       "   'x-amz-server-side-encryption': 'AES256',\n",
       "   'accept-ranges': 'bytes',\n",
       "   'content-type': 'text/csv',\n",
       "   'server': 'AmazonS3',\n",
       "   'content-length': '5123'},\n",
       "  'RetryAttempts': 0},\n",
       " 'AcceptRanges': 'bytes',\n",
       " 'LastModified': datetime.datetime(2023, 10, 18, 18, 50, 42, tzinfo=tzutc()),\n",
       " 'ContentLength': 5123,\n",
       " 'ETag': '\"369f69cfe081ce17657975ce17678792\"',\n",
       " 'ContentType': 'text/csv',\n",
       " 'ServerSideEncryption': 'AES256',\n",
       " 'Metadata': {},\n",
       " 'Body': <botocore.response.StreamingBody at 0x7f7f1897db50>}"
      ]
     },
     "execution_count": 9,
     "metadata": {},
     "output_type": "execute_result"
    }
   ],
   "source": [
    "s3object"
   ]
  },
  {
   "cell_type": "code",
   "execution_count": null,
   "id": "699eae0a-1252-4413-b732-25a0669bc255",
   "metadata": {},
   "outputs": [],
   "source": []
  }
 ],
 "metadata": {
  "kernelspec": {
   "display_name": "Python 3.9",
   "language": "python",
   "name": "python3"
  },
  "language_info": {
   "codemirror_mode": {
    "name": "ipython",
    "version": 3
   },
   "file_extension": ".py",
   "mimetype": "text/x-python",
   "name": "python",
   "nbconvert_exporter": "python",
   "pygments_lexer": "ipython3",
   "version": "3.9.16"
  }
 },
 "nbformat": 4,
 "nbformat_minor": 5
}
