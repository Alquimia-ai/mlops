{
 "cells": [
  {
   "cell_type": "markdown",
   "id": "87ec2e0d-f0cb-46fc-bd1a-05dbeecd787c",
   "metadata": {},
   "source": [
    "# Load Datasets from AWS3 🕸️🕸️"
   ]
  },
  {
   "cell_type": "code",
   "execution_count": 7,
   "id": "e767449d-e1e8-4693-a83a-e07dafed568e",
   "metadata": {
    "tags": []
   },
   "outputs": [],
   "source": [
    "## Imports to load from AWS3\n",
    "import os\n",
    "import boto3"
   ]
  },
  {
   "cell_type": "code",
   "execution_count": 11,
   "id": "9c789111-05f4-4ccd-ba19-fff99fec1bd8",
   "metadata": {
    "tags": []
   },
   "outputs": [],
   "source": [
    "## AWS_ACCESS_KEY_ID & AWS_SECRET_ACCESS_KEY should be set as Env variables\n",
    "key_id = os.environ.get('AWS_ACCESS_KEY_ID')\n",
    "secret_key = os.environ.get('AWS_SECRET_ACCESS_KEY')\n",
    "\n",
    "## Load the bucket and file path \n",
    "bucket_name = os.environ['bucket_name']\n",
    "model_name = 'intent'\n",
    "file_path = os.environ.get('model_base_dir', \"ecommerce-medusa\")\n",
    "labeled_dataset_name = os.environ.get('labeled_dataset_name', \"labeled_dataset.csv\")"
   ]
  },
  {
   "cell_type": "code",
   "execution_count": 12,
   "id": "656d7e5a-244b-48ee-b0d8-64d13a27ab4e",
   "metadata": {
    "tags": []
   },
   "outputs": [],
   "source": [
    "s3_client = boto3.client('s3', aws_access_key_id=key_id, aws_secret_access_key=secret_key)"
   ]
  },
  {
   "cell_type": "code",
   "execution_count": 13,
   "id": "5d992509-756e-4875-945b-befe048d3a93",
   "metadata": {
    "tags": []
   },
   "outputs": [
    {
     "name": "stdout",
     "output_type": "stream",
     "text": [
      "The bucket is alquimia-base-2zdsj-image-registry-us-east-2-ybsbcswkubwlexguj, model name intent and the file path is ecommerce-medusa\n"
     ]
    }
   ],
   "source": [
    "print(f\"The bucket is {bucket_name}, model name {model_name} and the file path is {file_path}\")"
   ]
  },
  {
   "cell_type": "code",
   "execution_count": 14,
   "id": "eabb4462-e31a-4d50-b8e1-f45328d5e753",
   "metadata": {
    "tags": []
   },
   "outputs": [],
   "source": [
    "## Get object & download it as labeled_dataset.csv\n",
    "s3_client.download_file(bucket_name, f\"{file_path}/{model_name}/datasets/{labeled_dataset_name}\", \"labeled_dataset.csv\")"
   ]
  },
  {
   "cell_type": "code",
   "execution_count": null,
   "id": "41cfb544-19a7-427d-81db-a3fb492d6cce",
   "metadata": {},
   "outputs": [],
   "source": []
  }
 ],
 "metadata": {
  "kernelspec": {
   "display_name": "Python 3.9",
   "language": "python",
   "name": "python3"
  },
  "language_info": {
   "codemirror_mode": {
    "name": "ipython",
    "version": 3
   },
   "file_extension": ".py",
   "mimetype": "text/x-python",
   "name": "python",
   "nbconvert_exporter": "python",
   "pygments_lexer": "ipython3",
   "version": "3.9.16"
  }
 },
 "nbformat": 4,
 "nbformat_minor": 5
}
